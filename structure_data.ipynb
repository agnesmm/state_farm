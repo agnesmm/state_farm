{
 "cells": [
  {
   "cell_type": "markdown",
   "metadata": {
    "collapsed": true
   },
   "source": [
    "## Structure"
   ]
  },
  {
   "cell_type": "code",
   "execution_count": 3,
   "metadata": {
    "collapsed": false
   },
   "outputs": [
    {
     "name": "stdout",
     "output_type": "stream",
     "text": [
      "  classname subject                                               imgs\n",
      "1        c0    p012  [c0/img_10206.jpg, c0/img_27079.jpg, c0/img_50...\n",
      "2        c0    p014  [c0/img_72495.jpg, c0/img_62101.jpg, c0/img_34...\n",
      "3        c0    p015  [c0/img_48693.jpg, c0/img_44903.jpg, c0/img_58...\n",
      "4        c0    p016  [c0/img_51066.jpg, c0/img_19066.jpg, c0/img_13...\n",
      "7        c0    p024  [c0/img_66836.jpg, c0/img_54333.jpg, c0/img_28...\n",
      "Directory /home/ubuntu/nbs/state_farm/data/train_set/ already exists\n",
      "Directory /home/ubuntu/nbs/state_farm/data/valid_set/ already exists\n",
      "17616\n",
      "4808\n"
     ]
    }
   ],
   "source": [
    "from collections import Counter\n",
    "import numpy as np\n",
    "import pandas as pd\n",
    "import random\n",
    "\n",
    "\"\"\"21 drivers : train\n",
    "4 drivers test\"\"\"\n",
    "\n",
    "def read_data(csv_path):\n",
    "    drivers_df = pd.read_csv(driver_imgs_list_path)\n",
    "    drivers_df['img'] = drivers_df['classname'] + '/' + drivers_df['img']\n",
    "    return drivers_df.groupby([\"classname\", \"subject\"])['img'].apply(list).reset_index(name=\"imgs\")\n",
    "\n",
    "def split_subject(df, train_count=21, seed=42):\n",
    "    unique_subjects = df['subject'].unique()\n",
    "    random.seed(seed)\n",
    "    random.shuffle(unique_subjects)\n",
    "    return unique_subjects[:train_count], unique_subjects[train_count:]\n",
    "\n",
    "\n",
    "data_directory = '/home/ubuntu/nbs/state_farm/data/'\n",
    "driver_imgs_list_path = data_directory + 'driver_imgs_list.csv'\n",
    "classname_subject_grouped = read_data(driver_imgs_list_path)\n",
    "train_drivers, valid_drivers = split_subject(classname_subject_grouped)\n",
    "\n",
    "train_df = classname_subject_grouped[classname_subject_grouped['subject'].isin(train_drivers)]\n",
    "valid_df = classname_subject_grouped[classname_subject_grouped['subject'].isin(valid_drivers)]\n",
    "\n",
    "print(train_df.head())\n",
    "\n",
    "\n",
    "import os\n",
    "imgs_directory = data_directory+ 'train/'\n",
    "train_directory = data_directory + 'train_set/'\n",
    "valid_directory = data_directory + 'valid_set/'\n",
    "classnames = classname_subject_grouped['classname'].unique()\n",
    "\n",
    "def make_dirs(dirs, classnames):\n",
    "    for directory in dirs:\n",
    "        if not os.path.exists(directory):\n",
    "            os.makedirs(directory)\n",
    "            for classname in classnames:\n",
    "                os.makedirs(directory+classname)\n",
    "        else:\n",
    "            print('Directory %s already exists' %directory)\n",
    "\n",
    "make_dirs([train_directory, valid_directory], classnames)\n",
    "\n",
    "\n",
    "def get_flatten_list_from_column(df, col):\n",
    "    imgs_2D = list(df[col])\n",
    "    return [j for i in imgs_2D for j in i]\n",
    "\n",
    "train_imgs = get_flatten_list_from_column(train_df, 'imgs')\n",
    "valid_imgs = get_flatten_list_from_column(valid_df, 'imgs')\n",
    "print(len(train_imgs))\n",
    "print(len(valid_imgs))\n",
    "\n",
    "from shutil import copy, copyfile\n",
    "\n",
    "def copy_files(files_list, imgs_directory, dst_directory):\n",
    "    for filename in files_list:\n",
    "        classname = filename[:3]\n",
    "        path = imgs_directory + filename\n",
    "        dst = dst_directory + classname\n",
    "        if os.listdir(dst_directory) == []:\n",
    "            print('THE DIRECTORY %s IS NOT EMPTY!' %dst_directory)\n",
    "            break\n",
    "        copy(path, dst)\n",
    "    \n",
    "copy_files(valid_imgs, imgs_directory, valid_directory)\n",
    "copy_files(train_imgs, imgs_directory, train_directory)"
   ]
  },
  {
   "cell_type": "markdown",
   "metadata": {},
   "source": [
    "## Sample"
   ]
  },
  {
   "cell_type": "code",
   "execution_count": 14,
   "metadata": {
    "collapsed": false
   },
   "outputs": [
    {
     "name": "stdout",
     "output_type": "stream",
     "text": [
      "/home/ubuntu/nbs/state_farm/data/train_set\n",
      "/home/ubuntu/nbs/state_farm/data/valid_set\n",
      "/home/ubuntu/nbs/state_farm/data/test\n"
     ]
    }
   ],
   "source": [
    "import glob \n",
    "\n",
    "!mkdir /home/ubuntu/nbs/state_farm/data/sample\n",
    "\n",
    "\n",
    "train_directory = '/home/ubuntu/nbs/state_farm/data/sample/train_set/'\n",
    "valid_directory = '/home/ubuntu/nbs/state_farm/data/sample/valid_set/'\n",
    "\n",
    "def make_dirs(dirs, classnames):\n",
    "    for directory in dirs:\n",
    "        if not os.path.exists(directory):\n",
    "            os.makedirs(directory)\n",
    "            for classname in classnames:\n",
    "                os.makedirs(directory+classname)\n",
    "        else:\n",
    "            print('Directory %s already exists' %directory)\n",
    "            \n",
    "make_dirs([train_directory, valid_directory], classnames)\n",
    "\n",
    "from shutil import copyfile\n",
    "\n",
    "%cd /home/ubuntu/nbs/state_farm/data/train_set/\n",
    "g = glob.glob('c?/*.jpg')\n",
    "shuf = np.random.permutation(g)\n",
    "for i in range(1500): \n",
    "    copyfile(shuf[i], '../sample/train_set/' + shuf[i])\n",
    "\n",
    "%cd /home/ubuntu/nbs/state_farm/data/valid_set/\n",
    "g = glob.glob('c?/*.jpg')\n",
    "shuf = np.random.permutation(g)\n",
    "for i in range(1000): \n",
    "    copyfile(shuf[i], '../sample/valid_set/' + shuf[i])\n",
    "\n",
    "!mkdir -p /home/ubuntu/nbs/state_farm/data/sample/test/unknown/\n",
    "    \n",
    "%cd /home/ubuntu/nbs/state_farm/data/test\n",
    "g = glob.glob('*.jpg')\n",
    "shuf = np.random.permutation(g)\n",
    "for i in range(100): \n",
    "    copyfile(shuf[i], '../sample/test/unknown/' + shuf[i])\n"
   ]
  },
  {
   "cell_type": "code",
   "execution_count": null,
   "metadata": {
    "collapsed": true
   },
   "outputs": [],
   "source": []
  }
 ],
 "metadata": {
  "anaconda-cloud": {},
  "kernelspec": {
   "display_name": "Python [conda root]",
   "language": "python",
   "name": "conda-root-py"
  },
  "language_info": {
   "codemirror_mode": {
    "name": "ipython",
    "version": 2
   },
   "file_extension": ".py",
   "mimetype": "text/x-python",
   "name": "python",
   "nbconvert_exporter": "python",
   "pygments_lexer": "ipython2",
   "version": "2.7.12"
  }
 },
 "nbformat": 4,
 "nbformat_minor": 1
}
