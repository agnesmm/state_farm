{
 "cells": [
  {
   "cell_type": "code",
   "execution_count": 1,
   "metadata": {
    "collapsed": false
   },
   "outputs": [
    {
     "name": "stderr",
     "output_type": "stream",
     "text": [
      "Using Theano backend.\n",
      "WARNING (theano.sandbox.cuda): The cuda backend is deprecated and will be removed in the next release (v0.10).  Please switch to the gpuarray backend. You can get more information about how to switch at this URL:\n",
      " https://github.com/Theano/Theano/wiki/Converting-to-the-new-gpu-back-end%28gpuarray%29\n",
      "\n",
      "Using gpu device 0: Tesla K80 (CNMeM is disabled, cuDNN 5103)\n"
     ]
    },
    {
     "name": "stdout",
     "output_type": "stream",
     "text": [
      "Found 800 images belonging to 10 classes.\n",
      "Found 300 images belonging to 10 classes.\n",
      "Epoch 1/10\n",
      "12/12 [==============================] - 42s - loss: 2.9181 - acc: 0.1862 - val_loss: 2.5726 - val_acc: 0.1706\n",
      "Epoch 2/10\n",
      "12/12 [==============================] - 37s - loss: 1.5679 - acc: 0.4917 - val_loss: 2.6039 - val_acc: 0.2529\n",
      "Epoch 3/10\n",
      "12/12 [==============================] - 40s - loss: 0.9102 - acc: 0.7190 - val_loss: 2.3791 - val_acc: 0.3014\n",
      "Epoch 4/10\n",
      "12/12 [==============================] - 43s - loss: 0.6281 - acc: 0.8140 - val_loss: 2.2589 - val_acc: 0.3248\n",
      "Epoch 5/10\n",
      "12/12 [==============================] - 37s - loss: 0.4154 - acc: 0.9166 - val_loss: 2.3634 - val_acc: 0.3576\n",
      "Epoch 6/10\n",
      "12/12 [==============================] - 40s - loss: 0.3574 - acc: 0.9285 - val_loss: 2.2946 - val_acc: 0.3855\n",
      "Epoch 7/10\n",
      "12/12 [==============================] - 40s - loss: 0.2408 - acc: 0.9610 - val_loss: 2.1434 - val_acc: 0.4276\n",
      "Epoch 8/10\n",
      "12/12 [==============================] - 33s - loss: 0.2009 - acc: 0.9765 - val_loss: 2.2991 - val_acc: 0.3721\n",
      "Epoch 9/10\n",
      "12/12 [==============================] - 25s - loss: 0.1524 - acc: 0.9935 - val_loss: 2.2535 - val_acc: 0.3949\n",
      "Epoch 10/10\n",
      "12/12 [==============================] - 25s - loss: 0.1397 - acc: 0.9935 - val_loss: 2.1837 - val_acc: 0.3972\n"
     ]
    },
    {
     "data": {
      "text/plain": [
       "<keras.callbacks.History at 0x7f1f917ab790>"
      ]
     },
     "execution_count": 1,
     "metadata": {},
     "output_type": "execute_result"
    }
   ],
   "source": [
    "from keras import backend as K\n",
    "from keras.applications.vgg16 import VGG16\n",
    "from keras.layers import GlobalAveragePooling2D, Flatten, Dense, Input, Dropout\n",
    "from keras.models import Model, load_model\n",
    "from keras.optimizers import Adam, RMSprop, SGD\n",
    "from keras.preprocessing.image import ImageDataGenerator\n",
    "\n",
    "\n",
    "#path = '/home/ubuntu/nbs/state_farm/data/sample1/'\n",
    "#batch_size=1\n",
    "\n",
    "path = '/home/ubuntu/nbs/state_farm/data/sample/'\n",
    "#path = '/home/ubuntu/nbs/state_farm/data/'\n",
    "batch_size = 64\n",
    "\n",
    "target_size=(224, 224)\n",
    "\n",
    "nb_train_samples = 800\n",
    "nb_validation_samples = 300\n",
    "epochs = 50\n",
    "\n",
    "\n",
    "\n",
    "#generate the batches\n",
    "def get_batches(directory, target_size=target_size, batch_size=batch_size, shuffle=False):\n",
    "    datagen = ImageDataGenerator()\n",
    "    return datagen.flow_from_directory(directory=directory,\n",
    "                                          target_size=target_size,\n",
    "                                          batch_size=batch_size,\n",
    "                                          class_mode='categorical',\n",
    "                                          shuffle=shuffle)\n",
    "\n",
    "\n",
    "batches = get_batches(path+'train_set', batch_size=batch_size, shuffle=True)\n",
    "\n",
    "valid_batches = get_batches(path+'valid_set', batch_size=batch_size*2, shuffle=False)\n",
    "\n",
    "# initialize the model\n",
    "initial_model = VGG16(weights=\"imagenet\", include_top=True)\n",
    "\n",
    "#finetuning\n",
    "x = Dense(batches.num_class, activation='softmax')(initial_model.layers[-2].output)\n",
    "model = Model(initial_model.input, x)\n",
    "\n",
    "# we freeze the other layers \n",
    "for layer in initial_model.layers: layer.trainable=False\n",
    "\n",
    "opt = Adam(lr=0.001)\n",
    "\n",
    "model.compile(optimizer=opt,\n",
    "              loss='categorical_crossentropy', \n",
    "              metrics=['accuracy'])\n",
    "\n",
    "model.fit_generator(batches, epochs=10, \n",
    "                    steps_per_epoch=nb_train_samples // batch_size,\n",
    "                    validation_data=valid_batches, \n",
    "                    validation_steps=nb_validation_samples // batch_size)"
   ]
  },
  {
   "cell_type": "code",
   "execution_count": 2,
   "metadata": {
    "collapsed": false
   },
   "outputs": [
    {
     "name": "stdout",
     "output_type": "stream",
     "text": [
      "Epoch 1/10\n",
      "12/12 [==============================] - 38s - loss: 0.0926 - acc: 0.9987 - val_loss: 2.3977 - val_acc: 0.3924\n",
      "Epoch 2/10\n",
      "12/12 [==============================] - 38s - loss: 0.0673 - acc: 0.9962 - val_loss: 2.4637 - val_acc: 0.3879\n",
      "Epoch 3/10\n",
      "12/12 [==============================] - 38s - loss: 0.0547 - acc: 1.0000 - val_loss: 2.4296 - val_acc: 0.4299\n",
      "Epoch 4/10\n",
      "12/12 [==============================] - 37s - loss: 0.0433 - acc: 1.0000 - val_loss: 2.5761 - val_acc: 0.3895\n",
      "Epoch 5/10\n",
      "12/12 [==============================] - 39s - loss: 0.0406 - acc: 1.0000 - val_loss: 2.6022 - val_acc: 0.4042\n",
      "Epoch 6/10\n",
      "12/12 [==============================] - 36s - loss: 0.0353 - acc: 1.0000 - val_loss: 2.6488 - val_acc: 0.4012\n",
      "Epoch 7/10\n",
      "12/12 [==============================] - 38s - loss: 0.0288 - acc: 1.0000 - val_loss: 2.6454 - val_acc: 0.4042\n",
      "Epoch 8/10\n",
      "12/12 [==============================] - 38s - loss: 0.0268 - acc: 1.0000 - val_loss: 2.5890 - val_acc: 0.4509\n",
      "Epoch 9/10\n",
      "12/12 [==============================] - 36s - loss: 0.0267 - acc: 1.0000 - val_loss: 2.7206 - val_acc: 0.4186\n",
      "Epoch 10/10\n",
      "12/12 [==============================] - 38s - loss: 0.0217 - acc: 1.0000 - val_loss: 2.7027 - val_acc: 0.4136\n"
     ]
    },
    {
     "data": {
      "text/plain": [
       "<keras.callbacks.History at 0x7f1fb493c410>"
      ]
     },
     "execution_count": 2,
     "metadata": {},
     "output_type": "execute_result"
    }
   ],
   "source": [
    "for layer in model.layers[:10]: \n",
    "    layer.trainable = False \n",
    "\n",
    "for layer in model.layers[10:]: \n",
    "    layer.trainable = True\n",
    "    \n",
    "opt = SGD(lr=10e-5) \n",
    "model.compile(optimizer=opt, loss='categorical_crossentropy', metrics=['accuracy'])\n",
    "\n",
    "model.fit_generator(batches, epochs=10, \n",
    "                    steps_per_epoch=nb_train_samples // batch_size,\n",
    "                    validation_data=valid_batches, \n",
    "                    validation_steps=nb_validation_samples // batch_size)"
   ]
  },
  {
   "cell_type": "code",
   "execution_count": 3,
   "metadata": {
    "collapsed": false
   },
   "outputs": [
    {
     "name": "stdout",
     "output_type": "stream",
     "text": [
      "Found 10 images belonging to 1 classes.\n"
     ]
    }
   ],
   "source": [
    "# predictions on new data\n",
    "test_batches = get_batches(path+'test', batch_size=batch_size)\n",
    "preds = model.predict_generator(test_batches, steps=test_batches.samples)\n"
   ]
  },
  {
   "cell_type": "code",
   "execution_count": 4,
   "metadata": {
    "collapsed": false
   },
   "outputs": [
    {
     "name": "stdout",
     "output_type": "stream",
     "text": [
      "[[ 0.01        0.12523724  0.30430737  0.01        0.06009294  0.01\n",
      "   0.0436891   0.46191174  0.01        0.01      ]\n",
      " [ 0.01        0.01        0.64018762  0.01        0.01        0.01\n",
      "   0.3480444   0.01        0.01        0.01      ]\n",
      " [ 0.01        0.01        0.01        0.01        0.01        0.01        0.01\n",
      "   0.01        0.01        0.99000001]\n",
      " [ 0.01        0.03554508  0.50475109  0.01        0.35027114  0.01\n",
      "   0.03962713  0.01        0.02117522  0.04019851]\n",
      " [ 0.01        0.02392313  0.08448274  0.01        0.05023948  0.01651551\n",
      "   0.01        0.76154894  0.01        0.05397846]\n",
      " [ 0.01        0.01        0.01        0.01        0.01        0.52133161\n",
      "   0.12427779  0.01        0.01381338  0.32896352]\n",
      " [ 0.79648787  0.01        0.08860772  0.01        0.01        0.01\n",
      "   0.01444472  0.02122173  0.07050229  0.01      ]\n",
      " [ 0.01        0.01        0.01        0.0555775   0.01        0.01160172\n",
      "   0.91099381  0.01        0.01746489  0.01      ]\n",
      " [ 0.61711437  0.02337319  0.01        0.01        0.30464458  0.01        0.01\n",
      "   0.01        0.01        0.03976699]\n",
      " [ 0.01        0.01        0.01        0.01        0.01        0.01\n",
      "   0.99000001  0.01        0.01        0.01      ]]\n"
     ]
    }
   ],
   "source": [
    "preds_clipes = preds.clip(min=0.01, max=0.99)\n",
    "print(preds_clipes[:10])"
   ]
  },
  {
   "cell_type": "code",
   "execution_count": 5,
   "metadata": {
    "collapsed": true
   },
   "outputs": [],
   "source": [
    "model.save('models/data_augmentation.h5')"
   ]
  },
  {
   "cell_type": "code",
   "execution_count": null,
   "metadata": {
    "collapsed": true
   },
   "outputs": [],
   "source": []
  }
 ],
 "metadata": {
  "anaconda-cloud": {},
  "kernelspec": {
   "display_name": "Python [conda root]",
   "language": "python",
   "name": "conda-root-py"
  },
  "language_info": {
   "codemirror_mode": {
    "name": "ipython",
    "version": 2
   },
   "file_extension": ".py",
   "mimetype": "text/x-python",
   "name": "python",
   "nbconvert_exporter": "python",
   "pygments_lexer": "ipython2",
   "version": "2.7.12"
  }
 },
 "nbformat": 4,
 "nbformat_minor": 1
}
